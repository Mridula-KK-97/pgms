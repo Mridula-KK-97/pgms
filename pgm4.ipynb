{
 "cells": [
  {
   "cell_type": "code",
   "execution_count": 1,
   "id": "317ad2fe",
   "metadata": {},
   "outputs": [
    {
     "name": "stdout",
     "output_type": "stream",
     "text": [
      "Enter lower range: 1\n",
      "Enter upper range: 20\n",
      "2\n",
      "3\n",
      "5\n",
      "7\n",
      "11\n",
      "13\n",
      "17\n",
      "19\n"
     ]
    }
   ],
   "source": [
    "# Program to print prime numbers\n",
    "lower = int(input(\"Enter lower range: \"))  \n",
    "upper = int(input(\"Enter upper range: \"))  \n",
    "  \n",
    "for num in range(lower,upper + 1):  \n",
    "   if num > 1:  \n",
    "       for i in range(2,num):  \n",
    "           if (num % i) == 0:  \n",
    "               break  \n",
    "       else:  \n",
    "           print(num)  "
   ]
  },
  {
   "cell_type": "code",
   "execution_count": 5,
   "id": "9578c380",
   "metadata": {},
   "outputs": [
    {
     "name": "stdout",
     "output_type": "stream",
     "text": [
      "Enter the number of rows5\n",
      "* * * * * \n",
      "* * * * * \n",
      "* * * * * \n",
      "* * * * * \n",
      "* * * * * \n"
     ]
    }
   ],
   "source": [
    "# Program to print pattern\n",
    "n = int(input(\"Enter the number of rows\"))  \n",
    "# outer loop to handle number of rows  \n",
    "for i in range(0, n):  \n",
    "    # inner loop to handle number of columns  \n",
    "    # values is changing according to outer loop  \n",
    "        for j in range(0, n):  \n",
    "            # printing stars  \n",
    "            print(\"* \", end=\"\")       \n",
    "  \n",
    "        # ending line after each row  \n",
    "        print()  "
   ]
  },
  {
   "cell_type": "code",
   "execution_count": 6,
   "id": "83e42c35",
   "metadata": {},
   "outputs": [
    {
     "name": "stdout",
     "output_type": "stream",
     "text": [
      "Please Enter your Own String : hello\n",
      "String in uppercase:  HELLO\n"
     ]
    }
   ],
   "source": [
    "# Program to convert a string into uppercase\n",
    "string = input(\"Please Enter your Own String : \")\n",
    "print(\"String in uppercase: \", string.upper())"
   ]
  },
  {
   "cell_type": "code",
   "execution_count": null,
   "id": "1c2a15b5",
   "metadata": {},
   "outputs": [],
   "source": []
  },
  {
   "cell_type": "code",
   "execution_count": null,
   "id": "a1a84fca",
   "metadata": {},
   "outputs": [],
   "source": []
  },
  {
   "cell_type": "code",
   "execution_count": 63,
   "id": "3dda48fe",
   "metadata": {},
   "outputs": [
    {
     "name": "stdout",
     "output_type": "stream",
     "text": [
      "        7 \n",
      "       7 7 \n",
      "      7 7 7 \n",
      "     7 7 7 7 \n",
      "    7 7 7 7 7 \n"
     ]
    }
   ],
   "source": [
    "def triangle(n):\n",
    "    k = 2*n - 2\n",
    "    for i in range(0, n):\n",
    "        for j in range(0, k):\n",
    "            print(end=\" \")\n",
    "        k = k-1\n",
    "        for j in range(0, i+1):\n",
    "            print(\"7 \", end=\"\")\n",
    "           \n",
    "        print(\"\")\n",
    " \n",
    "n = 5\n",
    "triangle(n)"
   ]
  },
  {
   "cell_type": "code",
   "execution_count": 21,
   "id": "3939cc2e",
   "metadata": {},
   "outputs": [
    {
     "name": "stdout",
     "output_type": "stream",
     "text": [
      "Enter the number of rows: 6\n",
      "          * \n",
      "         * * \n",
      "        * * * \n",
      "       * * * * \n",
      "      * * * * * \n",
      "     * * * * * * \n",
      "    * * * * * * * \n",
      "     * * * * * * \n",
      "      * * * * * \n",
      "       * * * * \n",
      "        * * * \n",
      "         * * \n",
      "          * \n"
     ]
    }
   ],
   "source": [
    "rows = int(input(\"Enter the number of rows: \"))  \n",
    "   \n",
    "k = 2 * rows - 2   \n",
    "for i in range(0, rows):    \n",
    "    for j in range(0, k):  \n",
    "        print(end=\" \")  \n",
    "  \n",
    "    k = k - 1  \n",
    "      \n",
    "    for j in range(0, i + 1):  \n",
    "        print(\"* \", end=\"\")  \n",
    "    print(\"\")  \n",
    "  \n",
    " \n",
    "k = rows - 2  \n",
    "\n",
    "for i in range(rows, -1, -1):  \n",
    "    \n",
    "    for j in range(k, 0, -1):  \n",
    "        print(end=\" \")  \n",
    "    \n",
    "    k = k + 1  \n",
    "    \n",
    "    for j in range(0, i + 1):  \n",
    "        print(\"* \", end=\"\")  \n",
    "    print(\"\")  "
   ]
  },
  {
   "cell_type": "code",
   "execution_count": 10,
   "id": "989db1a0",
   "metadata": {},
   "outputs": [
    {
     "name": "stdout",
     "output_type": "stream",
     "text": [
      "True\n",
      "False\n"
     ]
    }
   ],
   "source": [
    "# Program to check if two lists have atleast one element common\n",
    "def common_member(a, b):\n",
    "    a_set = set(a)\n",
    "    b_set = set(b)\n",
    "    if len(a_set.intersection(b_set)) > 0:\n",
    "        return(True) \n",
    "    return(False)   \n",
    "  \n",
    "a = [1, 2, 3, 4, 5]\n",
    "b = [5, 6, 7, 8, 9]\n",
    "print(common_member(a, b))  "
   ]
  },
  {
   "cell_type": "code",
   "execution_count": 11,
   "id": "427247fa",
   "metadata": {},
   "outputs": [
    {
     "name": "stdout",
     "output_type": "stream",
     "text": [
      "Enter number of elements:4\n",
      "Enter element:45\n",
      "Enter element:32\n",
      "Enter element:50\n",
      "Enter element:10\n",
      "Second largest element is: 45\n"
     ]
    }
   ],
   "source": [
    "# Program to find second largest number in a list\n",
    "a=[]\n",
    "n=int(input(\"Enter number of elements:\"))\n",
    "for i in range(1,n+1):\n",
    "    b=int(input(\"Enter element:\"))\n",
    "    a.append(b)\n",
    "a.sort()\n",
    "print(\"Second largest element is:\",a[n-2])"
   ]
  },
  {
   "cell_type": "code",
   "execution_count": 12,
   "id": "f78ec427",
   "metadata": {},
   "outputs": [
    {
     "name": "stdout",
     "output_type": "stream",
     "text": [
      "Enter number of elements for dictionary:3\n",
      "For keys:\n",
      "Enter element1:1\n",
      "Enter element2:3\n",
      "Enter element3:5\n",
      "For values:\n",
      "Enter element1:12\n",
      "Enter element2:34\n",
      "Enter element3:32\n",
      "The dictionary is:\n",
      "{1: 12, 3: 34, 5: 32}\n"
     ]
    }
   ],
   "source": [
    "# Program to convert list to list of dictionaries\n",
    "keys=[]\n",
    "values=[]\n",
    "n=int(input(\"Enter number of elements for dictionary:\"))\n",
    "print(\"For keys:\")\n",
    "for x in range(0,n):\n",
    "    element=int(input(\"Enter element\" + str(x+1) + \":\"))\n",
    "    keys.append(element)\n",
    "print(\"For values:\")\n",
    "for x in range(0,n):\n",
    "    element=int(input(\"Enter element\" + str(x+1) + \":\"))\n",
    "    values.append(element)\n",
    "d=dict(zip(keys,values))\n",
    "print(\"The dictionary is:\")\n",
    "print(d)"
   ]
  },
  {
   "cell_type": "code",
   "execution_count": 2,
   "id": "272e8961",
   "metadata": {},
   "outputs": [
    {
     "name": "stdout",
     "output_type": "stream",
     "text": [
      "Enter a stringhello\n",
      "Enter characterl\n",
      "count of  l in hello is 2\n"
     ]
    }
   ],
   "source": [
    "# Program to count the number of matching characters in a pair of string\n",
    "string = input(\"Enter a string\")\n",
    "char = input(\"Enter character\")\n",
    "count = 0\n",
    "for ele in string:\n",
    "    if ele==char:\n",
    "        count = count+1\n",
    "print(\"count of \", char, \"in\", string, \"is\", count)"
   ]
  },
  {
   "cell_type": "code",
   "execution_count": 3,
   "id": "325a62e2",
   "metadata": {},
   "outputs": [
    {
     "name": "stdout",
     "output_type": "stream",
     "text": [
      "32,054.23\n"
     ]
    }
   ],
   "source": [
    "# Program to swap commas and dots in a string\n",
    "string = \"32.054,23\"\n",
    "maketrans = string.maketrans\n",
    "string = string.translate(maketrans(',.', '.,'))\n",
    "print(string)"
   ]
  },
  {
   "cell_type": "code",
   "execution_count": 5,
   "id": "c20db1c4",
   "metadata": {},
   "outputs": [
    {
     "name": "stdout",
     "output_type": "stream",
     "text": [
      "enter number of elements: 3\n",
      "enter key\n",
      "2\n",
      "4\n",
      "enter key\n",
      "3\n",
      "9\n",
      "enter key\n",
      "4\n",
      "16\n",
      "{2: '4', 3: '9', 4: '16'}\n",
      "[2, 3, 4]\n",
      "['16', '4', '9']\n",
      "[(2, '4'), (3, '9'), (4, '16')]\n"
     ]
    }
   ],
   "source": [
    "# Program to sort python dictionaries by key or value\n",
    "n = int(input(\"enter number of elements: \"))\n",
    "d = {}\n",
    "for i in range(n):\n",
    "    print(\"enter key\")\n",
    "    keys = int(input())\n",
    "    values = input()\n",
    "    d[keys] = values\n",
    "print(d)\n",
    "print(sorted(d.keys()))\n",
    "print(sorted(d.values()))\n",
    "print(sorted(d.items()))"
   ]
  },
  {
   "cell_type": "code",
   "execution_count": 9,
   "id": "e2fe471e",
   "metadata": {},
   "outputs": [
    {
     "name": "stdout",
     "output_type": "stream",
     "text": [
      "enter a sentence: do you know her and do you know him\n",
      "do you know her and him\n"
     ]
    }
   ],
   "source": [
    "# Program to remove all duplicate words from a given sentence\n",
    "string = input(\"enter a sentence: \")\n",
    "s1 = string.split()\n",
    "list = []\n",
    "for i in s1:\n",
    "    if(string.count(i)>=1 and (i not in list)):\n",
    "        list.append(i)\n",
    "print(' '.join(list))"
   ]
  },
  {
   "cell_type": "code",
   "execution_count": 20,
   "id": "94dd0e64",
   "metadata": {},
   "outputs": [
    {
     "name": "stdout",
     "output_type": "stream",
     "text": [
      "1 2 3 4 5 6 7 \n",
      " 2 3 4 5 6 7 \n",
      "  3 4 5 6 7 \n",
      "   4 5 6 7 \n",
      "    5 6 7 \n",
      "     6 7 \n",
      "     6 7 \n",
      "    5 6 7 \n",
      "   4 5 6 7 \n",
      "  3 4 5 6 7 \n",
      " 2 3 4 5 6 7 \n",
      "1 2 3 4 5 6 7 \n"
     ]
    }
   ],
   "source": [
    "# Program to print Hourglass pattern\n",
    "for i in range(1, 7):\n",
    "    for k in range(1, i):\n",
    "        print(\" \", end = \"\")\n",
    "    for j in range(i, 8):\n",
    "        print(j, end=\" \")\n",
    "    \n",
    "    print()\n",
    "\n",
    "for i in range(6, 0, -1):\n",
    "    for k in range(1, i):\n",
    "        print(\" \", end = \"\")\n",
    "    for j in range(i, 8):\n",
    "        print(j, end = \" \")\n",
    "        \n",
    "    print()"
   ]
  },
  {
   "cell_type": "code",
   "execution_count": null,
   "id": "e0229da2",
   "metadata": {},
   "outputs": [],
   "source": []
  },
  {
   "cell_type": "code",
   "execution_count": null,
   "id": "82dc8f17",
   "metadata": {},
   "outputs": [],
   "source": []
  }
 ],
 "metadata": {
  "kernelspec": {
   "display_name": "Python 3",
   "language": "python",
   "name": "python3"
  },
  "language_info": {
   "codemirror_mode": {
    "name": "ipython",
    "version": 3
   },
   "file_extension": ".py",
   "mimetype": "text/x-python",
   "name": "python",
   "nbconvert_exporter": "python",
   "pygments_lexer": "ipython3",
   "version": "3.8.8"
  }
 },
 "nbformat": 4,
 "nbformat_minor": 5
}
