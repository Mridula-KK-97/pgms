{
 "cells": [
  {
   "cell_type": "code",
   "execution_count": 4,
   "id": "f4744136",
   "metadata": {},
   "outputs": [
    {
     "name": "stdout",
     "output_type": "stream",
     "text": [
      "Enter First Number: 20\n",
      "Enter Second Number: 16\n",
      "Enter which operation would you like to perform?\n",
      "Enter any of these char for specific operation +,-,*,/: +\n",
      "20 + 16 : 36\n"
     ]
    }
   ],
   "source": [
    "# Program to accept two numbers and do the arithmetic operations according to users wish\n",
    "\n",
    "num1 = int(input(\"Enter First Number: \"))\n",
    "num2 = int(input(\"Enter Second Number: \"))\n",
    "\n",
    "print(\"Enter which operation would you like to perform?\")\n",
    "ch = input(\"Enter any of these char for specific operation +,-,*,/: \")\n",
    "\n",
    "result = 0\n",
    "if ch == '+':\n",
    "    result = num1 + num2\n",
    "elif ch == '-':\n",
    "    result = num1 - num2\n",
    "elif ch == '*':\n",
    "    result = num1 * num2\n",
    "elif ch == '/':\n",
    "    result = num1 / num2\n",
    "else:\n",
    "    print(\"Input character is not recognized!\")\n",
    "\n",
    "print(num1, ch , num2, \":\", result)"
   ]
  },
  {
   "cell_type": "code",
   "execution_count": 3,
   "id": "da89113f",
   "metadata": {},
   "outputs": [
    {
     "name": "stdout",
     "output_type": "stream",
     "text": [
      "Number of even numbers : 10\n",
      "Number of odd numbers : 10\n"
     ]
    }
   ],
   "source": [
    "# Program to disply the count of even numbers and odd numbers between 1 and 20\n",
    "\n",
    "count_odd = 0\n",
    "count_even = 0\n",
    "for x in range(1,21):\n",
    "        if not x % 2:\n",
    "    \t     count_even+=1\n",
    "        else:\n",
    "    \t     count_odd+=1\n",
    "print(\"Number of even numbers :\",count_even)\n",
    "print(\"Number of odd numbers :\",count_odd)\n"
   ]
  },
  {
   "cell_type": "code",
   "execution_count": 5,
   "id": "16714cf7",
   "metadata": {},
   "outputs": [
    {
     "name": "stdout",
     "output_type": "stream",
     "text": [
      "Elements of original array: \n",
      "5 2 8 7 1 10 4 3 6 9 \n",
      "Elements of array sorted in ascending order: \n",
      "1 2 3 4 5 6 7 8 9 10 "
     ]
    }
   ],
   "source": [
    "# Program to sort an integer array with size 10\n",
    "\n",
    "arr = [5, 2, 8, 7, 1, 10, 4, 3, 6, 9];     \n",
    "temp = 0;    \n",
    "       \n",
    "print(\"Elements of original array: \");    \n",
    "for i in range(0, len(arr)):    \n",
    "    print(arr[i], end=\" \");    \n",
    "        \n",
    "for i in range(0, len(arr)):    \n",
    "    for j in range(i+1, len(arr)):    \n",
    "        if(arr[i] > arr[j]):    \n",
    "            temp = arr[i];    \n",
    "            arr[i] = arr[j];    \n",
    "            arr[j] = temp;    \n",
    "     \n",
    "print();       \n",
    "    \n",
    "print(\"Elements of array sorted in ascending order: \");    \n",
    "for i in range(0, len(arr)):    \n",
    "    print(arr[i], end=\" \");    \n"
   ]
  },
  {
   "cell_type": "code",
   "execution_count": 9,
   "id": "eb1f36a8",
   "metadata": {},
   "outputs": [
    {
     "name": "stdout",
     "output_type": "stream",
     "text": [
      "Enter a number104\n",
      "104 is greater than 100 and it is an even number\n"
     ]
    }
   ],
   "source": [
    "# Program to display a number if it is greater than 100 and it is an even number\n",
    "\n",
    "n = int(input(\"Enter a number\"))\n",
    "if n>100 and n%2 == 0:\n",
    "    print(n, \"is greater than 100 and it is an even number\")\n",
    "else:\n",
    "    print(\"Invalid\")"
   ]
  },
  {
   "cell_type": "code",
   "execution_count": 11,
   "id": "197f6dff",
   "metadata": {},
   "outputs": [
    {
     "name": "stdout",
     "output_type": "stream",
     "text": [
      "Enter your name: mridula\n",
      "Enter your age: 23\n",
      "Name: mridula\n",
      "Age:  23\n"
     ]
    }
   ],
   "source": [
    "# Program to create a function that can accept two arguments name and age and print its value\n",
    "\n",
    "def personal(name, age):\n",
    "    print(\"Name:\", name)\n",
    "    print(\"Age: \", age)\n",
    "\n",
    "name = input(\"Enter your name: \")\n",
    "age = int(input(\"Enter your age: \"))\n",
    "personal(name, age)\n"
   ]
  },
  {
   "cell_type": "code",
   "execution_count": 12,
   "id": "7410bcf9",
   "metadata": {},
   "outputs": [
    {
     "name": "stdout",
     "output_type": "stream",
     "text": [
      "[4, 6, 8, 10, 12, 14, 16, 18, 20, 22, 24, 26, 28]\n"
     ]
    }
   ],
   "source": [
    "# Program to generate a python list of all the even numbers between 4 to 30\n",
    "\n",
    "a = []\n",
    "for x in range(4, 30):\n",
    "    if x%2 == 0:\n",
    "        a.append(x)\n",
    "\n",
    "print(a)"
   ]
  },
  {
   "cell_type": "code",
   "execution_count": 14,
   "id": "67949780",
   "metadata": {},
   "outputs": [
    {
     "name": "stdout",
     "output_type": "stream",
     "text": [
      "Modified Set:  {1, 2, 3, 4, 5, 6, 7, 8, 9}\n"
     ]
    }
   ],
   "source": [
    "# Program to add a list of elements to a given set\n",
    "\n",
    "set1 = {1, 2, 3, 4, 5}\n",
    "add_set = [6, 3, 7, 8, 1, 9]\n",
    "set1.update(add_set)\n",
    "print(\"Modified Set: \", set1)"
   ]
  },
  {
   "cell_type": "code",
   "execution_count": 15,
   "id": "7a272b50",
   "metadata": {},
   "outputs": [
    {
     "name": "stdout",
     "output_type": "stream",
     "text": [
      "Modified Set:  {1, 2, 3, 4, 5, 6, 7, 8, 9}\n"
     ]
    }
   ],
   "source": [
    "# Program that returns a new set with all items from both sets by removing duplicates\n",
    "\n",
    "set1 = {1, 2, 3, 4, 5}\n",
    "set2 = {6, 3, 7, 8, 1, 9}\n",
    "set1.update(set2)\n",
    "print(\"Modified Set: \", set1)"
   ]
  },
  {
   "cell_type": "code",
   "execution_count": 18,
   "id": "1c6e7aa5",
   "metadata": {},
   "outputs": [
    {
     "name": "stdout",
     "output_type": "stream",
     "text": [
      "True\n"
     ]
    }
   ],
   "source": [
    "# Program given a list of numbers, returns True if first and last number of a list is same\n",
    "\n",
    "l = [12, 3, 5, 8, 9, 12]\n",
    "if l[0] == l[-1]:\n",
    "    print(\"True\")\n",
    "else:\n",
    "    print(\"Not same\")"
   ]
  },
  {
   "cell_type": "code",
   "execution_count": 19,
   "id": "293aabd0",
   "metadata": {},
   "outputs": [
    {
     "name": "stdout",
     "output_type": "stream",
     "text": [
      "5 is a divisible of 5\n",
      "10 is a divisible of 5\n",
      "15 is a divisible of 5\n"
     ]
    }
   ],
   "source": [
    "# Program given a list of numbers, iterate it and print only those numbers which are divisible of 5\n",
    "\n",
    "l = [1, 2, 3, 4, 5, 6, 7, 8, 9, 10, 12, 13, 14, 15]\n",
    "for i in l:\n",
    "    if i%5 == 0:\n",
    "        print(i, \"is a divisible of 5\")"
   ]
  },
  {
   "cell_type": "code",
   "execution_count": null,
   "id": "0632ca67",
   "metadata": {},
   "outputs": [],
   "source": []
  }
 ],
 "metadata": {
  "kernelspec": {
   "display_name": "Python 3",
   "language": "python",
   "name": "python3"
  },
  "language_info": {
   "codemirror_mode": {
    "name": "ipython",
    "version": 3
   },
   "file_extension": ".py",
   "mimetype": "text/x-python",
   "name": "python",
   "nbconvert_exporter": "python",
   "pygments_lexer": "ipython3",
   "version": "3.8.8"
  }
 },
 "nbformat": 4,
 "nbformat_minor": 5
}
