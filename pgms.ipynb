{
 "cells": [
  {
   "cell_type": "code",
   "execution_count": 1,
   "id": "08e62151",
   "metadata": {},
   "outputs": [
    {
     "name": "stdout",
     "output_type": "stream",
     "text": [
      "3.0\n"
     ]
    }
   ],
   "source": [
    "a = [1,2,3,4,5]\n",
    "s = sum(a)\n",
    "l = len(a)\n",
    "avg = s/l\n",
    "print(avg)\n"
   ]
  },
  {
   "cell_type": "code",
   "execution_count": null,
   "id": "9bb86add",
   "metadata": {},
   "outputs": [],
   "source": []
  },
  {
   "cell_type": "code",
   "execution_count": 2,
   "id": "5676146a",
   "metadata": {},
   "outputs": [
    {
     "name": "stdout",
     "output_type": "stream",
     "text": [
      "enter a number12\n",
      "reverse of number  12 is : 21\n"
     ]
    }
   ],
   "source": [
    "num = int(input(\"enter a number\"))\n",
    "t = num\n",
    "rev = 0\n",
    "while num > 0:\n",
    "    i = num % 10\n",
    "    rev = rev * 10 + i\n",
    "    num = num // 10\n",
    "print(\"reverse of number \", t, \"is :\",rev)"
   ]
  },
  {
   "cell_type": "code",
   "execution_count": 1,
   "id": "073d9262",
   "metadata": {},
   "outputs": [
    {
     "name": "stdout",
     "output_type": "stream",
     "text": [
      "Enter number of elements:5\n",
      "Enter element:10\n",
      "Enter element:20\n",
      "Enter element:4\n",
      "Enter element:13\n",
      "Enter number of elements:2\n",
      "Enter element:12\n",
      "Sorted list is: [4, 10, 12, 13, 20]\n"
     ]
    }
   ],
   "source": [
    "a=[]\n",
    "c=[]\n",
    "n1=int(input(\"Enter number of elements:\"))\n",
    "for i in range(1,n1):\n",
    "    b=int(input(\"Enter element:\"))\n",
    "    a.append(b)\n",
    "n2=int(input(\"Enter number of elements:\"))\n",
    "for i in range(1,n2):\n",
    "    d=int(input(\"Enter element:\"))\n",
    "    c.append(d)\n",
    "new=a+c\n",
    "new.sort()\n",
    "print(\"Sorted list is:\",new)"
   ]
  },
  {
   "cell_type": "code",
   "execution_count": 2,
   "id": "cd589aec",
   "metadata": {},
   "outputs": [
    {
     "name": "stdout",
     "output_type": "stream",
     "text": [
      "enter a number121\n",
      "121 is a palindrome\n"
     ]
    }
   ],
   "source": [
    "num = int(input(\"enter a number\"))\n",
    "t = num\n",
    "rev = 0\n",
    "while num > 0:\n",
    "    i = num % 10\n",
    "    rev = rev * 10 + i\n",
    "    num = num // 10\n",
    "\n",
    "if rev == t:\n",
    "    print(t, \"is a palindrome\")\n",
    "else:\n",
    "    print(t, \"is not a palindrome\")"
   ]
  },
  {
   "cell_type": "code",
   "execution_count": 3,
   "id": "b46208a6",
   "metadata": {},
   "outputs": [
    {
     "name": "stdout",
     "output_type": "stream",
     "text": [
      "enter key3\n",
      "Enter valuetime\n",
      "{3: 'time'}\n"
     ]
    }
   ],
   "source": [
    "dict={}\n",
    "key = int(input(\"enter key\"))\n",
    "value = input(\"Enter value\")\n",
    "dict.update({key:value})\n",
    "print(dict)"
   ]
  },
  {
   "cell_type": "code",
   "execution_count": 4,
   "id": "2f24bcab",
   "metadata": {},
   "outputs": [
    {
     "name": "stdout",
     "output_type": "stream",
     "text": [
      "[7, 4, 3, 2]\n"
     ]
    }
   ],
   "source": [
    "a = [7,4,4,3,2,3]\n",
    "b = set()\n",
    "unique = []\n",
    "for x in a:\n",
    "    if x not in b:\n",
    "        unique.append(x)\n",
    "        b.add(x)\n",
    "print(unique)"
   ]
  },
  {
   "cell_type": "code",
   "execution_count": 1,
   "id": "c5498c77",
   "metadata": {},
   "outputs": [
    {
     "name": "stdout",
     "output_type": "stream",
     "text": [
      "Enter no of elements in list4\n",
      "Elements: 9\n",
      "Elements: 4\n",
      "Elements: 10\n",
      "Elements: 2\n",
      "Largest even number:  10\n",
      "Largest odd number:  9\n"
     ]
    }
   ],
   "source": [
    "# Program to print largest even and largest odd number in a list\n",
    "a = []\n",
    "b = []\n",
    "c = []\n",
    "n = int(input(\"Enter no of elements in list\"))\n",
    "for i in range(0, n):\n",
    "    l = int(input(\"Elements: \"))\n",
    "    a.append(l)\n",
    "for j in a:\n",
    "    if(j%2==0):\n",
    "        b.append(j)\n",
    "    else:\n",
    "        c.append(j)\n",
    "print(\"Largest even number: \", max(b))\n",
    "print(\"Largest odd number: \", max(c))"
   ]
  },
  {
   "cell_type": "code",
   "execution_count": 2,
   "id": "85361e17",
   "metadata": {},
   "outputs": [
    {
     "name": "stdout",
     "output_type": "stream",
     "text": [
      "Enter a no: 153\n",
      "153 is an amstrong number\n"
     ]
    }
   ],
   "source": [
    "# Program to check whether a number is an amstrong number\n",
    "n = int(input(\"Enter a no: \"))\n",
    "temp = n\n",
    "sum = 0\n",
    "while(temp>0):\n",
    "    i = temp % 10\n",
    "    sum = sum + pow(i,3)\n",
    "    temp = temp // 10\n",
    "if(n == sum):\n",
    "    print(n, \"is an amstrong number\")\n",
    "else:\n",
    "    print(n, \"is not an amstrong number\")"
   ]
  },
  {
   "cell_type": "code",
   "execution_count": 3,
   "id": "f8138151",
   "metadata": {},
   "outputs": [
    {
     "name": "stdout",
     "output_type": "stream",
     "text": [
      "Enter a number: 11\n",
      "11 is a prime number\n",
      "Enter lower range: 1\n",
      "Enter upper range: 20\n",
      "2\n",
      "3\n",
      "5\n",
      "7\n",
      "11\n",
      "13\n",
      "17\n",
      "19\n"
     ]
    }
   ],
   "source": [
    "# Program to check if a number is a prime number and print all the prime numbers within ranges\n",
    "n = int(input(\"Enter a number: \"))\n",
    "flag = False\n",
    "if n>1:\n",
    "    for i in range(2,n):\n",
    "        if n%i==0:\n",
    "            flag=True\n",
    "            break\n",
    "    if flag:\n",
    "        print(n, \" is not a prime number\")\n",
    "    else:\n",
    "        print(n, \"is a prime number\")\n",
    "\n",
    "lower = int(input(\"Enter lower range: \"))  \n",
    "upper = int(input(\"Enter upper range: \")) \n",
    "  \n",
    "for num in range(lower,upper + 1):  \n",
    "   if num > 1:  \n",
    "       for i in range(2,num):  \n",
    "           if (num % i) == 0:  \n",
    "               break  \n",
    "       else:  \n",
    "           print(num) "
   ]
  },
  {
   "cell_type": "code",
   "execution_count": 3,
   "id": "d84260cb",
   "metadata": {},
   "outputs": [
    {
     "name": "stdout",
     "output_type": "stream",
     "text": [
      "Enter a number4\n",
      "1 + 2 + 3 + 4 = 10\n",
      "\n"
     ]
    }
   ],
   "source": [
    "# python program to read a number n and print the series \"1+2+...+n=\"\n",
    "n =int(input(\"Enter a number\"))\n",
    "a=[]\n",
    "for i in range(1,n+1):\n",
    "    print(i, sep=\" \", end=\" \")\n",
    "    if(i<n):\n",
    "        print(\"+\", sep=\" \", end=\" \")\n",
    "    a.append(i)\n",
    "print(\"=\", sum(a))\n",
    "print()"
   ]
  },
  {
   "cell_type": "code",
   "execution_count": 5,
   "id": "99a0805e",
   "metadata": {},
   "outputs": [
    {
     "name": "stdout",
     "output_type": "stream",
     "text": [
      "Enter string:relation\n",
      "Count of the vowels is: 4\n"
     ]
    }
   ],
   "source": [
    "# Program to count vowels in a string with sets\n",
    "s = input(\"Enter string:\")\n",
    "count = 0\n",
    "vowels = set(\"aeiou\")\n",
    "for i in s:\n",
    "    if i in vowels:\n",
    "        count = count+1\n",
    "print(\"Count of the vowels is:\", count)"
   ]
  },
  {
   "cell_type": "code",
   "execution_count": 6,
   "id": "30a5c422",
   "metadata": {},
   "outputs": [
    {
     "name": "stdout",
     "output_type": "stream",
     "text": [
      "Swapped numbers in list are:  [4, 3]\n"
     ]
    }
   ],
   "source": [
    "# Program to swap two elements in the list\n",
    "list = [3, 4]\n",
    "first = list.index(3)\n",
    "second = list.index(4)\n",
    "list[first], list[second] = list[second], list[first]\n",
    "print(\"Swapped numbers in list are: \", list)"
   ]
  },
  {
   "cell_type": "code",
   "execution_count": 8,
   "id": "0a61ed19",
   "metadata": {},
   "outputs": [
    {
     "name": "stdout",
     "output_type": "stream",
     "text": [
      "Enter number:6\n",
      "Factorial of the number is:  720\n"
     ]
    }
   ],
   "source": [
    "# Program to find factorial of a number\n",
    "n = int(input(\"Enter number:\"))\n",
    "fact = 1\n",
    "while(n>0):\n",
    "    fact=fact*n\n",
    "    n=n-1\n",
    "print(\"Factorial of the number is: \",fact)"
   ]
  },
  {
   "cell_type": "code",
   "execution_count": 13,
   "id": "7448f623",
   "metadata": {},
   "outputs": [
    {
     "name": "stdout",
     "output_type": "stream",
     "text": [
      "Key is present in the dictionary\n",
      "Key is not present in the dictionary\n"
     ]
    }
   ],
   "source": [
    "# Program to check if a key is already present in a dictionary\n",
    "d = {1: 10, 2: 20, 3: 30, 4: 40, 5: 50, 6: 60}\n",
    "def is_key_present(x):\n",
    "  if x in d:\n",
    "      print('Key is present in the dictionary')\n",
    "  else:\n",
    "      print('Key is not present in the dictionary')\n",
    "is_key_present(5)\n",
    "is_key_present(9)"
   ]
  },
  {
   "cell_type": "code",
   "execution_count": 16,
   "id": "0920ab2f",
   "metadata": {},
   "outputs": [
    {
     "name": "stdout",
     "output_type": "stream",
     "text": [
      "        * \r\n",
      "       * * \r\n",
      "      * * * \r\n",
      "     * * * * \r\n",
      "    * * * * * \r\n"
     ]
    }
   ],
   "source": [
    "# Program to print pyramid\n",
    "def triangle(n):\n",
    "    k = 2*n - 2\n",
    "    for i in range(0, n):\n",
    "        for j in range(0, k):\n",
    "            print(end=\" \")\n",
    "        k = k - 1\n",
    "        for j in range(0, i+1):\n",
    "            print(\"* \", end=\"\")\n",
    "        print(\"\\r\")\n",
    " \n",
    "n = 5\n",
    "triangle(n)"
   ]
  },
  {
   "cell_type": "code",
   "execution_count": 15,
   "id": "7e0f6466",
   "metadata": {},
   "outputs": [
    {
     "name": "stdout",
     "output_type": "stream",
     "text": [
      "Enter number of rows: 5\n",
      "* \n",
      "\n",
      "* * \n",
      "\n",
      "* * * \n",
      "\n",
      "* * * * \n",
      "\n",
      "* * * * * \n",
      "\n"
     ]
    }
   ],
   "source": [
    "# Program to print pattern\n",
    "rows = int(input(\"Enter number of rows: \"))\n",
    "\n",
    "for i in range(rows):\n",
    "    for j in range(i+1):\n",
    "        print(\"* \", end=\"\")\n",
    "    print(\"\\n\")"
   ]
  },
  {
   "cell_type": "code",
   "execution_count": null,
   "id": "9beb8a09",
   "metadata": {},
   "outputs": [],
   "source": []
  }
 ],
 "metadata": {
  "kernelspec": {
   "display_name": "Python 3",
   "language": "python",
   "name": "python3"
  },
  "language_info": {
   "codemirror_mode": {
    "name": "ipython",
    "version": 3
   },
   "file_extension": ".py",
   "mimetype": "text/x-python",
   "name": "python",
   "nbconvert_exporter": "python",
   "pygments_lexer": "ipython3",
   "version": "3.8.8"
  }
 },
 "nbformat": 4,
 "nbformat_minor": 5
}
