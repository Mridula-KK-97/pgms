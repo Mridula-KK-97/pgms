{
 "cells": [
  {
   "cell_type": "code",
   "execution_count": 1,
   "id": "17ae4535",
   "metadata": {},
   "outputs": [
    {
     "name": "stdout",
     "output_type": "stream",
     "text": [
      "Enter number:670592\n",
      "The number of digits in the number are: 6\n"
     ]
    }
   ],
   "source": [
    "# Program to count the number of digits in a number\n",
    "n = int(input(\"Enter number:\"))\n",
    "count = 0\n",
    "while n>0:\n",
    "    count=count+1\n",
    "    n=n//10\n",
    "print(\"The number of digits in the number are:\",count)"
   ]
  },
  {
   "cell_type": "code",
   "execution_count": 2,
   "id": "5a959910",
   "metadata": {},
   "outputs": [
    {
     "name": "stdout",
     "output_type": "stream",
     "text": [
      "Enter a no: 6\n",
      "6 is a perfect number\n"
     ]
    }
   ],
   "source": [
    "# Program to check if a number is a perfect number\n",
    "n = int(input(\"Enter a no: \"))\n",
    "sum = 0\n",
    "for i in range(1,n):\n",
    "    if(n%i==0):\n",
    "        sum = sum + i\n",
    "if(sum == n):\n",
    "    print(n, \"is a perfect number\")\n",
    "else:\n",
    "    print(n, \"is not a perfect number\")"
   ]
  },
  {
   "cell_type": "code",
   "execution_count": 3,
   "id": "fe05cd86",
   "metadata": {},
   "outputs": [
    {
     "name": "stdout",
     "output_type": "stream",
     "text": [
      "Enter a number: 18\n",
      "The sum of first n natural numbers is 171\n"
     ]
    }
   ],
   "source": [
    "# Program to find the sum of first N natural numbers\n",
    "n=int(input(\"Enter a number: \"))\n",
    "sum = 0\n",
    "while(n > 0):\n",
    "    sum = sum+n\n",
    "    n=n-1\n",
    "print(\"The sum of first n natural numbers is\",sum)"
   ]
  },
  {
   "cell_type": "code",
   "execution_count": 4,
   "id": "88b1ec94",
   "metadata": {},
   "outputs": [
    {
     "name": "stdout",
     "output_type": "stream",
     "text": [
      "[9, 11, 26, 28]\n"
     ]
    }
   ],
   "source": [
    "# Program to find intersection of two lists\n",
    "def intersection(lst1, lst2):\n",
    "    lst3 = [value for value in lst1 if value in lst2]\n",
    "    return lst3\n",
    "  \n",
    "lst1 = [4, 9, 1, 17, 11, 26, 28, 54, 69]\n",
    "lst2 = [9, 9, 74, 21, 45, 11, 63, 28, 26]\n",
    "print(intersection(lst1, lst2))"
   ]
  },
  {
   "cell_type": "code",
   "execution_count": 7,
   "id": "e02be7a7",
   "metadata": {},
   "outputs": [
    {
     "name": "stdout",
     "output_type": "stream",
     "text": [
      "it is a substring\n"
     ]
    }
   ],
   "source": [
    "# Program to check if a substring is present in a given string\n",
    "def check(string, sub_str):\n",
    "    if (string.find(sub_str) == -1):\n",
    "        print(\"NO\")\n",
    "    else:\n",
    "        print(\"it is a substring\")\n",
    "            \n",
    "string = \"Hello World\"\n",
    "sub_str =\"World\"\n",
    "check(string, sub_str)"
   ]
  },
  {
   "cell_type": "code",
   "execution_count": null,
   "id": "ecf4f761",
   "metadata": {},
   "outputs": [],
   "source": []
  }
 ],
 "metadata": {
  "kernelspec": {
   "display_name": "Python 3",
   "language": "python",
   "name": "python3"
  },
  "language_info": {
   "codemirror_mode": {
    "name": "ipython",
    "version": 3
   },
   "file_extension": ".py",
   "mimetype": "text/x-python",
   "name": "python",
   "nbconvert_exporter": "python",
   "pygments_lexer": "ipython3",
   "version": "3.8.8"
  }
 },
 "nbformat": 4,
 "nbformat_minor": 5
}
