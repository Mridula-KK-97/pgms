{
 "cells": [
  {
   "cell_type": "code",
   "execution_count": 3,
   "id": "b6bc1215",
   "metadata": {},
   "outputs": [
    {
     "name": "stdout",
     "output_type": "stream",
     "text": [
      "1\n",
      "5\n",
      "7\n",
      "11\n",
      "13\n",
      "17\n",
      "19\n",
      "23\n",
      "25\n",
      "29\n",
      "31\n",
      "35\n",
      "37\n",
      "41\n",
      "43\n",
      "47\n",
      "49\n"
     ]
    }
   ],
   "source": [
    "# Program to print all integers that aren't divisible by either 2 or 3 and lie between 1 and 50\n",
    "\n",
    "for i in range(1,51):\n",
    "    if i%2 != 0 and i%3 !=0:\n",
    "        print(i)"
   ]
  },
  {
   "cell_type": "code",
   "execution_count": 24,
   "id": "1079add3",
   "metadata": {},
   "outputs": [
    {
     "name": "stdout",
     "output_type": "stream",
     "text": [
      "Enter marks of the first subject: 78\n",
      "Enter marks of the second subject: 86\n",
      "Enter marks of the third subject: 89\n",
      "Enter marks of the fourth subject: 76\n",
      "Enter marks of the fifth subject: 65\n",
      "Grade: B\n"
     ]
    }
   ],
   "source": [
    "# Program to take in the marks of 5 subjects and display the grade\n",
    "\n",
    "s1=int(input(\"Enter marks of the first subject: \"))\n",
    "s2=int(input(\"Enter marks of the second subject: \"))\n",
    "s3=int(input(\"Enter marks of the third subject: \"))\n",
    "s4=int(input(\"Enter marks of the fourth subject: \"))\n",
    "s5=int(input(\"Enter marks of the fifth subject: \"))\n",
    "avg=(s1+s2+s3+s4+s4)/5\n",
    "if avg>=90:\n",
    "    print(\"Grade: A\")\n",
    "elif avg>=80 and avg<90:\n",
    "    print(\"Grade: B\")\n",
    "elif avg>=70 and avg<80:\n",
    "    print(\"Grade: C\")\n",
    "elif avg>=60 and avg<70:\n",
    "    print(\"Grade: D\")\n",
    "else:\n",
    "    print(\"Grade: F\")"
   ]
  },
  {
   "cell_type": "code",
   "execution_count": 27,
   "id": "2c80f025",
   "metadata": {},
   "outputs": [
    {
     "name": "stdout",
     "output_type": "stream",
     "text": [
      "35\n"
     ]
    }
   ],
   "source": [
    "# Program to find those numbers which are divisible by 7 and multiple of 5 in a given range of numbers\n",
    "\n",
    "for i in range(1, 50):\n",
    "    if i%7 == 0 and i%5 == 0:\n",
    "        print(i)"
   ]
  },
  {
   "cell_type": "code",
   "execution_count": 32,
   "id": "3b693f9e",
   "metadata": {},
   "outputs": [
    {
     "name": "stdout",
     "output_type": "stream",
     "text": [
      "Enter limit: 18\n",
      "Sum=  171\n"
     ]
    }
   ],
   "source": [
    "# Program to find the sum of first n natural numbers\n",
    "\n",
    "n = int(input(\"Enter limit: \"))\n",
    "sum = 0\n",
    "while n>0:\n",
    "    sum = sum + n\n",
    "    n = n - 1\n",
    "print(\"Sum= \", sum)"
   ]
  },
  {
   "cell_type": "code",
   "execution_count": 34,
   "id": "96493938",
   "metadata": {},
   "outputs": [
    {
     "name": "stdout",
     "output_type": "stream",
     "text": [
      "Odd nubers are: \n",
      "[1, 3, 5, 7, 9]\n",
      "Even numbers are: \n",
      "[2, 4, 6, 8, 10]\n"
     ]
    }
   ],
   "source": [
    "# Program to put even and odd elements in a list into two different list\n",
    "\n",
    "a = [1, 2, 3, 4, 5, 6, 7, 8, 9, 10]\n",
    "b = []\n",
    "c = []\n",
    "for i in a:\n",
    "    if i%2 == 0:\n",
    "        b.append(i)\n",
    "    else:\n",
    "        c.append(i)\n",
    "print(\"Odd nubers are: \")\n",
    "print(c)\n",
    "print(\"Even numbers are: \")\n",
    "print(b)"
   ]
  },
  {
   "cell_type": "code",
   "execution_count": 35,
   "id": "932cef50",
   "metadata": {},
   "outputs": [
    {
     "name": "stdout",
     "output_type": "stream",
     "text": [
      "Enter string:malayalam\n",
      "Number of words in the string:\n",
      "1\n",
      "Number of characters in the string:\n",
      "9\n"
     ]
    }
   ],
   "source": [
    "# Program to calculate the number of words and the number of characters present in a string\n",
    "\n",
    "s = input(\"Enter string:\")\n",
    "char = 0\n",
    "word = 1\n",
    "for i in s:\n",
    "      char = char + 1\n",
    "      if(i==' '):\n",
    "            word = word + 1\n",
    "print(\"Number of words in the string:\")\n",
    "print(word)\n",
    "print(\"Number of characters in the string:\")\n",
    "print(char)"
   ]
  },
  {
   "cell_type": "code",
   "execution_count": 36,
   "id": "c5c99b53",
   "metadata": {},
   "outputs": [
    {
     "name": "stdout",
     "output_type": "stream",
     "text": [
      "23900\n"
     ]
    }
   ],
   "source": [
    "# Program to multiply all the items in a dictionary\n",
    "\n",
    "d={'A':10,'B':10,'C':239}\n",
    "tot = 1\n",
    "for i in d:    \n",
    "    tot=tot*d[i]\n",
    "print(tot)"
   ]
  },
  {
   "cell_type": "code",
   "execution_count": 38,
   "id": "80865c26",
   "metadata": {},
   "outputs": [
    {
     "name": "stdout",
     "output_type": "stream",
     "text": [
      "Enter first string: computer\n",
      "Enter second string: science\n",
      "The letters are:\n",
      "r\n",
      "p\n",
      "i\n",
      "t\n",
      "n\n",
      "m\n",
      "u\n",
      "s\n",
      "o\n"
     ]
    }
   ],
   "source": [
    "# Program that displays which letters are in the two strings but not in both \n",
    "\n",
    "s1 = input(\"Enter first string: \")\n",
    "s2 = input(\"Enter second string: \")\n",
    "a = list(set(s1)^set(s2))\n",
    "print(\"The letters are:\")\n",
    "for i in a:\n",
    "    print(i)"
   ]
  },
  {
   "cell_type": "code",
   "execution_count": 39,
   "id": "a1351632",
   "metadata": {},
   "outputs": [
    {
     "name": "stdout",
     "output_type": "stream",
     "text": [
      "{'red': '#FF0000', 'green': '#008000', 'blue': '#0000FF'}\n"
     ]
    }
   ],
   "source": [
    "# Program to map two lists into a dictionary\n",
    "\n",
    "keys = ['red', 'green', 'blue']\n",
    "values = ['#FF0000','#008000', '#0000FF']\n",
    "dictionary = dict(zip(keys, values))\n",
    "print(dictionary)"
   ]
  },
  {
   "cell_type": "code",
   "execution_count": 40,
   "id": "6c7c4e3f",
   "metadata": {},
   "outputs": [
    {
     "name": "stdout",
     "output_type": "stream",
     "text": [
      "Enter the numbers: 7\n",
      "The sum of series is 2.5928571428571425\n"
     ]
    }
   ],
   "source": [
    "# Program to find the sum of the series: 1 + 1/2 + 1/3 +....+ 1/N\n",
    "\n",
    "n = int(input(\"Enter the numbers: \"))\n",
    "sum = 0\n",
    "for i in range(1, n+1):\n",
    "    sum = sum + (1/i)\n",
    "print(\"The sum of series is\", sum)"
   ]
  },
  {
   "cell_type": "code",
   "execution_count": null,
   "id": "ff76fc27",
   "metadata": {},
   "outputs": [],
   "source": []
  }
 ],
 "metadata": {
  "kernelspec": {
   "display_name": "Python 3",
   "language": "python",
   "name": "python3"
  },
  "language_info": {
   "codemirror_mode": {
    "name": "ipython",
    "version": 3
   },
   "file_extension": ".py",
   "mimetype": "text/x-python",
   "name": "python",
   "nbconvert_exporter": "python",
   "pygments_lexer": "ipython3",
   "version": "3.8.8"
  }
 },
 "nbformat": 4,
 "nbformat_minor": 5
}
