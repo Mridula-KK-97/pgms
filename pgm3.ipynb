{
 "cells": [
  {
   "cell_type": "code",
   "execution_count": 2,
   "id": "97cb0c91",
   "metadata": {},
   "outputs": [
    {
     "name": "stdout",
     "output_type": "stream",
     "text": [
      "Enter the first number of the series 0\n",
      "Enter the second number of the series 1\n",
      "Enter the number of terms needed 9\n",
      "0 1 1 2 3 5 8 13 21 "
     ]
    }
   ],
   "source": [
    "# Program to print fibonacci series\n",
    "a=int(input(\"Enter the first number of the series \"))\n",
    "b=int(input(\"Enter the second number of the series \"))\n",
    "n=int(input(\"Enter the number of terms needed \"))\n",
    "print(a,b,end=\" \")\n",
    "while(n-2):\n",
    "    c=a+b\n",
    "    a=b\n",
    "    b=c\n",
    "    print(c,end=\" \")\n",
    "    n=n-1"
   ]
  },
  {
   "cell_type": "code",
   "execution_count": 7,
   "id": "08d450d3",
   "metadata": {},
   "outputs": [
    {
     "name": "stdout",
     "output_type": "stream",
     "text": [
      "Please enter your own String : hello world\n",
      "Please enter your own Character : l\n",
      "The total Number of Times  l  has Occurred =  3\n"
     ]
    }
   ],
   "source": [
    "# Program to count occurrence of a character in a string\n",
    "string = input(\"Please enter your own String : \")\n",
    "char = input(\"Please enter your own Character : \")\n",
    "\n",
    "count = 0\n",
    "for i in range(len(string)):\n",
    "    if(string[i] == char):\n",
    "        count = count + 1\n",
    "\n",
    "print(\"The total Number of Times \", char, \" has Occurred = \" , count)"
   ]
  },
  {
   "cell_type": "code",
   "execution_count": 11,
   "id": "244ab516",
   "metadata": {},
   "outputs": [
    {
     "name": "stdout",
     "output_type": "stream",
     "text": [
      "Enter size: \t10\n",
      "  * * * * * * * *   \n",
      "*                   \n",
      "*                   \n",
      "*                   \n",
      "*       * * * * * * \n",
      "*                 * \n",
      "*                 * \n",
      "*                 * \n",
      "*                 * \n",
      "  * * * * * * * *   \n"
     ]
    }
   ],
   "source": [
    "# Program to print pattern g\n",
    "def print_pattern(n):\n",
    "    # Outer for loop for number of rows\n",
    "    for row in range(n):\n",
    " \n",
    "        # Inner for loop columns\n",
    "        for column in range(n):\n",
    " \n",
    "            # prints first row\n",
    "            if ((row == 0 and (column != 0 and column != n-1)) or\n",
    "               # prints last row\n",
    "                (row == n - 1 and (column != 0 and column != n-1)) or\n",
    "                # prints first column\n",
    "                ((column == 0 and (row != 0 and row != n-1)) or\n",
    "                 # prints last column\n",
    "                 (column == n-1 and row != n-1 and row >= (n/2)-1)) or\n",
    "                # prints middle column\n",
    "                (row == (n/2)-1 and ((n/2)-1 <= column < n-1))\n",
    "            ):\n",
    "                print(\"*\", end=\" \")\n",
    "            else:\n",
    "                print(\" \", end=\" \")\n",
    "        print()\n",
    " \n",
    " \n",
    "size = int(input(\"Enter size: \\t\"))\n",
    " \n",
    "if size < 8:\n",
    "    print(\"Enter a size greater than 8\")\n",
    "else:\n",
    "    print_pattern(size)"
   ]
  },
  {
   "cell_type": "code",
   "execution_count": 26,
   "id": "249c5ba9",
   "metadata": {},
   "outputs": [
    {
     "name": "stdout",
     "output_type": "stream",
     "text": [
      "The string starts and ends with same character\n"
     ]
    }
   ],
   "source": [
    "# Program to check whether a string sarts and ends with same character or not\n",
    "strn = \"malayalam\"\n",
    "\n",
    "if strn.startswith(\"m\") and strn.endswith(\"m\"):\n",
    "    print(\"The string starts and ends with same character\")\n",
    "else:\n",
    "    print(\"Not same\")"
   ]
  },
  {
   "cell_type": "code",
   "execution_count": 33,
   "id": "8183288c",
   "metadata": {},
   "outputs": [
    {
     "name": "stdout",
     "output_type": "stream",
     "text": [
      "negative numbers are: \n",
      "-21\n",
      "-93\n",
      "positive numbers are: \n",
      "11\n",
      "45\n",
      "66\n"
     ]
    }
   ],
   "source": [
    "# Program to print positive and negative number in a list\n",
    "list = [11, -21, 0, 45, 66, -93]\n",
    "\n",
    "print(\"negative numbers are: \")\n",
    "for num in list:\n",
    "      if num < 0:\n",
    "       print( num)\n",
    "\n",
    "print(\"positive numbers are: \")\n",
    "for num in list:\n",
    "    if num>0:\n",
    "        print(num)"
   ]
  },
  {
   "cell_type": "code",
   "execution_count": null,
   "id": "2322789a",
   "metadata": {},
   "outputs": [],
   "source": []
  }
 ],
 "metadata": {
  "kernelspec": {
   "display_name": "Python 3",
   "language": "python",
   "name": "python3"
  },
  "language_info": {
   "codemirror_mode": {
    "name": "ipython",
    "version": 3
   },
   "file_extension": ".py",
   "mimetype": "text/x-python",
   "name": "python",
   "nbconvert_exporter": "python",
   "pygments_lexer": "ipython3",
   "version": "3.8.8"
  }
 },
 "nbformat": 4,
 "nbformat_minor": 5
}
